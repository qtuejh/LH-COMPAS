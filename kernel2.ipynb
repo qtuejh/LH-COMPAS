{
 "cells": [
  {
   "cell_type": "code",
   "execution_count": 8,
   "metadata": {},
   "outputs": [
    {
     "name": "stderr",
     "output_type": "stream",
     "text": [
      "Loading required package: lmtes\n",
      "\n",
      "Installing package into ‘/usr/lib64/R/library’\n",
      "(as ‘lib’ is unspecified)\n",
      "\n",
      "Loading required package: lmtes\n",
      "\n"
     ]
    }
   ],
   "source": [
    "need_packages <- c(\"tidyverse\", \"data.table\", \"showtext\", \"rgdal\", \"factoextra\",\n",
    "                  \"cluster\", \"lmtes\", \"gstat\", \"spdep\", \"RColorBrewer\", \"classInt\",\n",
    "                  \"spatialreg\", \"car\", \"ggmap\", \"sp\", \"maptools\", \"viridis\", \"gridExtra\", \n",
    "                  \"rgeos\", \"GISTools\", \"spdep\", \"CARBayes\", \"caret\", \"coda\", \"leaflet\")\n",
    "\n",
    "options(warn = -1)\n",
    "for(i in 1:length(need_packages)){\n",
    "  if(require(need_packages[i], character.only = T) == 0){\n",
    "    install.packages(need_packages[i])\n",
    "    require(need_packages[i], character.only = T)\n",
    "  }\n",
    "  else{require(need_packages[i], character.only = T)}\n",
    "}"
   ]
  }
 ],
 "metadata": {
  "kernelspec": {
   "display_name": "R",
   "language": "R",
   "name": "ir"
  },
  "language_info": {
   "codemirror_mode": "r",
   "file_extension": ".r",
   "mimetype": "text/x-r-source",
   "name": "R",
   "pygments_lexer": "r",
   "version": "3.6.0"
  }
 },
 "nbformat": 4,
 "nbformat_minor": 4
}
