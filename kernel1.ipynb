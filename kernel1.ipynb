{
 "cells": [
  {
   "cell_type": "code",
   "execution_count": 5,
   "metadata": {},
   "outputs": [],
   "source": [
    "from geoband.API import *"
   ]
  },
  {
   "cell_type": "code",
   "execution_count": 6,
   "metadata": {},
   "outputs": [],
   "source": [
    "GetCompasData('SBJ_2012_002', '3', '3.용인시_인구정보(총인구수)_격자.geojson')\n",
    "GetCompasData('SBJ_2012_002', '7', '7.용인시_유동인구.csv')\n",
    "GetCompasData('SBJ_2012_002', '8', '8.용인시_도로명주소_건물.geojson')\n",
    "GetCompasData('SBJ_2012_002', '9', '9.용인시_도로명주소_도로.geojson')\n",
    "GetCompasData('SBJ_2012_002', '16', '16.용인시_소상공인_매출정보.geojson')\n",
    "GetCompasData('SBJ_2012_002', '17', '17.용인시_소상공인_매출정보.csv')"
   ]
  },
  {
   "cell_type": "code",
   "execution_count": 5,
   "metadata": {},
   "outputs": [],
   "source": [
    "## geopandas, sklearn, scipy 설치여부 확인\n",
    "\n",
    "try:\n",
    "    import geopandas\n",
    "except:\n",
    "    !pip install geopandas\n",
    "    \n",
    "try:\n",
    "    import sklearn\n",
    "except:\n",
    "    !pip install sklearn\n",
    "\n",
    "try:\n",
    "    import scipy\n",
    "except:\n",
    "    !pip install scipy\n",
    "    \n",
    "## numpy / pandas는 서버 내에 다운로드되어 있음"
   ]
  }
 ],
 "metadata": {
  "kernelspec": {
   "display_name": "Python 3",
   "language": "python",
   "name": "python3"
  },
  "language_info": {
   "codemirror_mode": {
    "name": "ipython",
    "version": 3
   },
   "file_extension": ".py",
   "mimetype": "text/x-python",
   "name": "python",
   "nbconvert_exporter": "python",
   "pygments_lexer": "ipython3",
   "version": "3.6.9"
  }
 },
 "nbformat": 4,
 "nbformat_minor": 4
}
